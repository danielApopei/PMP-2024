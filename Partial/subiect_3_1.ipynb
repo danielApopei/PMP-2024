{
 "nbformat": 4,
 "nbformat_minor": 0,
 "metadata": {
  "colab": {
   "provenance": [],
   "toc_visible": true
  },
  "kernelspec": {
   "name": "python3",
   "display_name": "Python 3 (ipykernel)",
   "language": "python"
  },
  "language_info": {
   "name": "python"
  },
  "widgets": {
   "application/vnd.jupyter.widget-state+json": {
    "5243ebad0c624cf6be8f639688a8f328": {
     "model_module": "@jupyter-widgets/output",
     "model_name": "OutputModel",
     "model_module_version": "1.0.0",
     "state": {
      "_dom_classes": [],
      "_model_module": "@jupyter-widgets/output",
      "_model_module_version": "1.0.0",
      "_model_name": "OutputModel",
      "_view_count": null,
      "_view_module": "@jupyter-widgets/output",
      "_view_module_version": "1.0.0",
      "_view_name": "OutputView",
      "layout": "IPY_MODEL_303985c0f97c4cb690a0a16425059819",
      "msg_id": "",
      "outputs": [
       {
        "output_type": "display_data",
        "data": {
         "text/plain": "Sampling chain 0, 0 divergences \u001B[32m━━━━━━━━━━━━━━━━━━━━━━━━━━━━━━━━━━━━━━━━\u001B[0m \u001B[35m100%\u001B[0m \u001B[36m0:00:00\u001B[0m / \u001B[33m0:00:03\u001B[0m\n",
         "text/html": "<pre style=\"white-space:pre;overflow-x:auto;line-height:normal;font-family:Menlo,'DejaVu Sans Mono',consolas,'Courier New',monospace\">Sampling chain 0, 0 divergences <span style=\"color: #008000; text-decoration-color: #008000\">━━━━━━━━━━━━━━━━━━━━━━━━━━━━━━━━━━━━━━━━</span> <span style=\"color: #800080; text-decoration-color: #800080\">100%</span> <span style=\"color: #008080; text-decoration-color: #008080\">0:00:00</span> / <span style=\"color: #808000; text-decoration-color: #808000\">0:00:03</span>\n</pre>\n"
        },
        "metadata": {}
       }
      ]
     }
    },
    "303985c0f97c4cb690a0a16425059819": {
     "model_module": "@jupyter-widgets/base",
     "model_name": "LayoutModel",
     "model_module_version": "1.2.0",
     "state": {
      "_model_module": "@jupyter-widgets/base",
      "_model_module_version": "1.2.0",
      "_model_name": "LayoutModel",
      "_view_count": null,
      "_view_module": "@jupyter-widgets/base",
      "_view_module_version": "1.2.0",
      "_view_name": "LayoutView",
      "align_content": null,
      "align_items": null,
      "align_self": null,
      "border": null,
      "bottom": null,
      "display": null,
      "flex": null,
      "flex_flow": null,
      "grid_area": null,
      "grid_auto_columns": null,
      "grid_auto_flow": null,
      "grid_auto_rows": null,
      "grid_column": null,
      "grid_gap": null,
      "grid_row": null,
      "grid_template_areas": null,
      "grid_template_columns": null,
      "grid_template_rows": null,
      "height": null,
      "justify_content": null,
      "justify_items": null,
      "left": null,
      "margin": null,
      "max_height": null,
      "max_width": null,
      "min_height": null,
      "min_width": null,
      "object_fit": null,
      "object_position": null,
      "order": null,
      "overflow": null,
      "overflow_x": null,
      "overflow_y": null,
      "padding": null,
      "right": null,
      "top": null,
      "visibility": null,
      "width": null
     }
    },
    "1150ad52dbca4b4db97e6dde77da8250": {
     "model_module": "@jupyter-widgets/output",
     "model_name": "OutputModel",
     "model_module_version": "1.0.0",
     "state": {
      "_dom_classes": [],
      "_model_module": "@jupyter-widgets/output",
      "_model_module_version": "1.0.0",
      "_model_name": "OutputModel",
      "_view_count": null,
      "_view_module": "@jupyter-widgets/output",
      "_view_module_version": "1.0.0",
      "_view_name": "OutputView",
      "layout": "IPY_MODEL_dca3959251de40299f1eb5f80178c292",
      "msg_id": "",
      "outputs": [
       {
        "output_type": "display_data",
        "data": {
         "text/plain": "Sampling chain 1, 0 divergences \u001B[32m━━━━━━━━━━━━━━━━━━━━━━━━━━━━━━━━━━━━━━━━\u001B[0m \u001B[35m100%\u001B[0m \u001B[36m0:00:00\u001B[0m / \u001B[33m0:00:03\u001B[0m\n",
         "text/html": "<pre style=\"white-space:pre;overflow-x:auto;line-height:normal;font-family:Menlo,'DejaVu Sans Mono',consolas,'Courier New',monospace\">Sampling chain 1, 0 divergences <span style=\"color: #008000; text-decoration-color: #008000\">━━━━━━━━━━━━━━━━━━━━━━━━━━━━━━━━━━━━━━━━</span> <span style=\"color: #800080; text-decoration-color: #800080\">100%</span> <span style=\"color: #008080; text-decoration-color: #008080\">0:00:00</span> / <span style=\"color: #808000; text-decoration-color: #808000\">0:00:03</span>\n</pre>\n"
        },
        "metadata": {}
       }
      ]
     }
    },
    "dca3959251de40299f1eb5f80178c292": {
     "model_module": "@jupyter-widgets/base",
     "model_name": "LayoutModel",
     "model_module_version": "1.2.0",
     "state": {
      "_model_module": "@jupyter-widgets/base",
      "_model_module_version": "1.2.0",
      "_model_name": "LayoutModel",
      "_view_count": null,
      "_view_module": "@jupyter-widgets/base",
      "_view_module_version": "1.2.0",
      "_view_name": "LayoutView",
      "align_content": null,
      "align_items": null,
      "align_self": null,
      "border": null,
      "bottom": null,
      "display": null,
      "flex": null,
      "flex_flow": null,
      "grid_area": null,
      "grid_auto_columns": null,
      "grid_auto_flow": null,
      "grid_auto_rows": null,
      "grid_column": null,
      "grid_gap": null,
      "grid_row": null,
      "grid_template_areas": null,
      "grid_template_columns": null,
      "grid_template_rows": null,
      "height": null,
      "justify_content": null,
      "justify_items": null,
      "left": null,
      "margin": null,
      "max_height": null,
      "max_width": null,
      "min_height": null,
      "min_width": null,
      "object_fit": null,
      "object_position": null,
      "order": null,
      "overflow": null,
      "overflow_x": null,
      "overflow_y": null,
      "padding": null,
      "right": null,
      "top": null,
      "visibility": null,
      "width": null
     }
    }
   }
  }
 },
 "cells": [
  {
   "cell_type": "code",
   "metadata": {
    "id": "41WHk7wMN7Kd",
    "ExecuteTime": {
     "end_time": "2024-11-21T09:13:13.883962Z",
     "start_time": "2024-11-21T09:13:13.880690Z"
    }
   },
   "source": [
    "import pymc as pm\n",
    "import numpy as np\n",
    "import matplotlib.pyplot as plt"
   ],
   "outputs": [],
   "execution_count": 49
  },
  {
   "cell_type": "code",
   "source": [
    "# s = 0\n",
    "# b = 1\n",
    "observatii = np.array([0, 1, 1, 1, 0, 1, 0, 1, 1, 1])"
   ],
   "metadata": {
    "id": "HJg9jqRNN_66",
    "ExecuteTime": {
     "end_time": "2024-11-21T09:13:13.893916Z",
     "start_time": "2024-11-21T09:13:13.884970Z"
    }
   },
   "outputs": [],
   "execution_count": 50
  },
  {
   "cell_type": "code",
   "source": [
    "with pm.Model() as model:\n",
    "    \n",
    "    # a priori: distributie beta\n",
    "    alfa = 1\n",
    "    beta = 1\n",
    "    n = pm.Beta(\"n\", alpha=1, beta=1)\n",
    "    p = pm.Normal(\"p\", mu=0.5, sigma=1)\n",
    "    X_obs = pm.Beta(\"beta\", alpha=alfa, beta=beta)\n",
    "    k_obs = pm.Binomial(\"k_obs\", n=10, p=p, observed=observatii)\n",
    "    \n",
    "    print(k_obs)\n",
    "    # # Priori pentru μ și σ\n",
    "    # mu = pm.Normal(\"mu\", mu=58, sigma=10)  # μ ~ N(58, 10^2)\n",
    "    # \n",
    "    # sigma = pm.HalfNormal(\"sigma\", sigma=10)  # σ ~ HalfNormal(10)\n",
    "    # \n",
    "    # # Distribuția pentru observații\n",
    "    # X_obs = pm.Normal(\"X_obs\", mu=mu, sigma=sigma, observed=observatii)\n",
    "\n",
    "    # Eșantionare\n",
    "    # trace = pm.sample(2000, tune=1000, random_seed=42)\n",
    "    \n",
    "with model:\n",
    "    # pm.sample creeaza esantioane aleatorii din distributia a posteriori a parametrilor modelului\n",
    "    trace = pm.sample(2000, tune=1000, return_inferencedata=True)"
   ],
   "metadata": {
    "colab": {
     "base_uri": "https://localhost:8080/",
     "height": 49,
     "referenced_widgets": [
      "5243ebad0c624cf6be8f639688a8f328",
      "303985c0f97c4cb690a0a16425059819",
      "1150ad52dbca4b4db97e6dde77da8250",
      "dca3959251de40299f1eb5f80178c292"
     ]
    },
    "id": "Tg0OTMRcODlI",
    "outputId": "041f5c44-cdcd-4f42-a648-ccf7b0a82fd0",
    "ExecuteTime": {
     "end_time": "2024-11-21T09:13:37.355689Z",
     "start_time": "2024-11-21T09:13:13.893916Z"
    }
   },
   "outputs": [
    {
     "name": "stdout",
     "output_type": "stream",
     "text": [
      "k_obs\n"
     ]
    },
    {
     "name": "stderr",
     "output_type": "stream",
     "text": [
      "Auto-assigning NUTS sampler...\n",
      "Initializing NUTS using jitter+adapt_diag...\n",
      "C:\\Users\\Dani\\Desktop\\uaic\\pmp\\PMP-2024\\Partial\\.venv\\Lib\\site-packages\\pytensor\\tensor\\elemwise.py:734: RuntimeWarning: invalid value encountered in log\n",
      "  variables = ufunc(*ufunc_args, **ufunc_kwargs)\n",
      "C:\\Users\\Dani\\Desktop\\uaic\\pmp\\PMP-2024\\Partial\\.venv\\Lib\\site-packages\\pytensor\\tensor\\elemwise.py:734: RuntimeWarning: invalid value encountered in log\n",
      "  variables = ufunc(*ufunc_args, **ufunc_kwargs)\n",
      "C:\\Users\\Dani\\Desktop\\uaic\\pmp\\PMP-2024\\Partial\\.venv\\Lib\\site-packages\\pytensor\\tensor\\elemwise.py:734: RuntimeWarning: invalid value encountered in log\n",
      "  variables = ufunc(*ufunc_args, **ufunc_kwargs)\n",
      "C:\\Users\\Dani\\Desktop\\uaic\\pmp\\PMP-2024\\Partial\\.venv\\Lib\\site-packages\\pytensor\\tensor\\elemwise.py:734: RuntimeWarning: invalid value encountered in log\n",
      "  variables = ufunc(*ufunc_args, **ufunc_kwargs)\n",
      "C:\\Users\\Dani\\Desktop\\uaic\\pmp\\PMP-2024\\Partial\\.venv\\Lib\\site-packages\\pytensor\\tensor\\elemwise.py:734: RuntimeWarning: invalid value encountered in log\n",
      "  variables = ufunc(*ufunc_args, **ufunc_kwargs)\n",
      "C:\\Users\\Dani\\Desktop\\uaic\\pmp\\PMP-2024\\Partial\\.venv\\Lib\\site-packages\\pytensor\\tensor\\elemwise.py:734: RuntimeWarning: invalid value encountered in log\n",
      "  variables = ufunc(*ufunc_args, **ufunc_kwargs)\n",
      "Multiprocess sampling (4 chains in 4 jobs)\n",
      "NUTS: [n, p, beta]\n"
     ]
    },
    {
     "data": {
      "text/plain": [
       "Output()"
      ],
      "application/vnd.jupyter.widget-view+json": {
       "version_major": 2,
       "version_minor": 0,
       "model_id": "14fdd1a9794d4938b99879732a154937"
      }
     },
     "metadata": {},
     "output_type": "display_data"
    },
    {
     "data": {
      "text/plain": [],
      "text/html": [
       "<pre style=\"white-space:pre;overflow-x:auto;line-height:normal;font-family:Menlo,'DejaVu Sans Mono',consolas,'Courier New',monospace\"></pre>\n"
      ]
     },
     "metadata": {},
     "output_type": "display_data"
    },
    {
     "name": "stderr",
     "output_type": "stream",
     "text": [
      "Sampling 4 chains for 1_000 tune and 2_000 draw iterations (4_000 + 8_000 draws total) took 20 seconds.\n",
      "There were 31 divergences after tuning. Increase `target_accept` or reparameterize.\n"
     ]
    }
   ],
   "execution_count": 51
  },
  {
   "cell_type": "code",
   "source": [
    "import arviz as az"
   ],
   "metadata": {
    "id": "C6oomlljOtWG",
    "ExecuteTime": {
     "end_time": "2024-11-21T09:13:37.359551Z",
     "start_time": "2024-11-21T09:13:37.355689Z"
    }
   },
   "outputs": [],
   "execution_count": 52
  },
  {
   "cell_type": "code",
   "source": [
    "# Vizualizarea rezultatelor\n",
    "az.plot_posterior(trace, var_names=[\"n\", \"p\"], hdi_prob=0.95)\n",
    "az.summary(trace, var_names=[\"n\", \"p\"])"
   ],
   "metadata": {
    "colab": {
     "base_uri": "https://localhost:8080/",
     "height": 609
    },
    "id": "sW9VRyEqOLv1",
    "outputId": "677e6901-3a2b-44e8-a5e8-5cefcdf6e030",
    "ExecuteTime": {
     "end_time": "2024-11-21T09:13:37.479306Z",
     "start_time": "2024-11-21T09:13:37.359551Z"
    }
   },
   "outputs": [
    {
     "data": {
      "text/plain": [
       "    mean     sd  hdi_3%  hdi_97%  mcse_mean  mcse_sd  ess_bulk  ess_tail  \\\n",
       "n  0.498  0.290   0.000    0.941      0.003    0.002    7853.0    4960.0   \n",
       "p  0.079  0.027   0.032    0.128      0.000    0.000    7304.0    5104.0   \n",
       "\n",
       "   r_hat  \n",
       "n    1.0  \n",
       "p    1.0  "
      ],
      "text/html": [
       "<div>\n",
       "<style scoped>\n",
       "    .dataframe tbody tr th:only-of-type {\n",
       "        vertical-align: middle;\n",
       "    }\n",
       "\n",
       "    .dataframe tbody tr th {\n",
       "        vertical-align: top;\n",
       "    }\n",
       "\n",
       "    .dataframe thead th {\n",
       "        text-align: right;\n",
       "    }\n",
       "</style>\n",
       "<table border=\"1\" class=\"dataframe\">\n",
       "  <thead>\n",
       "    <tr style=\"text-align: right;\">\n",
       "      <th></th>\n",
       "      <th>mean</th>\n",
       "      <th>sd</th>\n",
       "      <th>hdi_3%</th>\n",
       "      <th>hdi_97%</th>\n",
       "      <th>mcse_mean</th>\n",
       "      <th>mcse_sd</th>\n",
       "      <th>ess_bulk</th>\n",
       "      <th>ess_tail</th>\n",
       "      <th>r_hat</th>\n",
       "    </tr>\n",
       "  </thead>\n",
       "  <tbody>\n",
       "    <tr>\n",
       "      <th>n</th>\n",
       "      <td>0.498</td>\n",
       "      <td>0.290</td>\n",
       "      <td>0.000</td>\n",
       "      <td>0.941</td>\n",
       "      <td>0.003</td>\n",
       "      <td>0.002</td>\n",
       "      <td>7853.0</td>\n",
       "      <td>4960.0</td>\n",
       "      <td>1.0</td>\n",
       "    </tr>\n",
       "    <tr>\n",
       "      <th>p</th>\n",
       "      <td>0.079</td>\n",
       "      <td>0.027</td>\n",
       "      <td>0.032</td>\n",
       "      <td>0.128</td>\n",
       "      <td>0.000</td>\n",
       "      <td>0.000</td>\n",
       "      <td>7304.0</td>\n",
       "      <td>5104.0</td>\n",
       "      <td>1.0</td>\n",
       "    </tr>\n",
       "  </tbody>\n",
       "</table>\n",
       "</div>"
      ]
     },
     "execution_count": 53,
     "metadata": {},
     "output_type": "execute_result"
    },
    {
     "data": {
      "text/plain": [
       "<Figure size 1472x552 with 2 Axes>"
      ],
      "image/png": "[encoded data removed]"
     },
     "metadata": {},
     "output_type": "display_data"
    }
   ],
   "execution_count": 53
  },
  {
   "metadata": {
    "ExecuteTime": {
     "end_time": "2024-11-21T09:13:37.481903Z",
     "start_time": "2024-11-21T09:13:37.479306Z"
    }
   },
   "cell_type": "code",
   "source": "",
   "outputs": [],
   "execution_count": 53
  },
  {
   "metadata": {
    "ExecuteTime": {
     "end_time": "2024-11-21T09:13:37.484202Z",
     "start_time": "2024-11-21T09:13:37.481903Z"
    }
   },
   "cell_type": "code",
   "source": "",
   "outputs": [],
   "execution_count": 53
  }
 ]
}
